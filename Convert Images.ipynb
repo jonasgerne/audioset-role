{
 "cells": [
  {
   "cell_type": "markdown",
   "metadata": {},
   "source": [
    "## Convert PNG images to jpg"
   ]
  },
  {
   "cell_type": "code",
   "execution_count": null,
   "metadata": {},
   "outputs": [],
   "source": [
    "from PIL import Image\n",
    "\n",
    "all_files = os.listdir(PNG_DIR)\n",
    "for i, f_ in enumerate(all_files):\n",
    "    im = Image.open(IMG_DIR + f_)\n",
    "    rgb_im = im.convert('RGB')\n",
    "    rgb_im.save(JPG_DIR + f_[:-4] + '.jpg')\n",
    "    if i%100 == 0:\n",
    "        print('Files converted: %d/%d'%(i, len(all_files)) )"
   ]
  }
 ],
 "metadata": {
  "kernelspec": {
   "display_name": "Python 3",
   "language": "python",
   "name": "python3"
  },
  "language_info": {
   "codemirror_mode": {
    "name": "ipython",
    "version": 3
   },
   "file_extension": ".py",
   "mimetype": "text/x-python",
   "name": "python",
   "nbconvert_exporter": "python",
   "pygments_lexer": "ipython3",
   "version": "3.5.2"
  }
 },
 "nbformat": 4,
 "nbformat_minor": 2
}
